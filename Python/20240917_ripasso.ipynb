{
 "cells": [
  {
   "cell_type": "code",
   "execution_count": 1,
   "metadata": {},
   "outputs": [
    {
     "name": "stdout",
     "output_type": "stream",
     "text": [
      "Ciao,  Will\n"
     ]
    }
   ],
   "source": [
    "nome = input('Inserisci il tuo nome: ')\n",
    "print('Ciao, ', nome)"
   ]
  },
  {
   "cell_type": "code",
   "execution_count": 2,
   "metadata": {},
   "outputs": [
    {
     "name": "stdout",
     "output_type": "stream",
     "text": [
      "docente\n"
     ]
    }
   ],
   "source": [
    "if nome == 'Will':\n",
    "    print('docente')\n",
    "elif nome == 'Giovanni':\n",
    "    pass\n",
    "else:\n",
    "    print('studente')"
   ]
  },
  {
   "cell_type": "code",
   "execution_count": 4,
   "metadata": {},
   "outputs": [
    {
     "name": "stdout",
     "output_type": "stream",
     "text": [
      "0\n",
      "1\n",
      "2\n",
      "3\n",
      "4\n",
      "ciao\n"
     ]
    }
   ],
   "source": [
    "i = 0\n",
    "while i < 5:\n",
    "    print(i)\n",
    "    i += 1 #commentando questa riga il ciclo diventa infinito\n",
    "\n",
    "while True:\n",
    "    print('ciao')\n",
    "    if i == 5:\n",
    "        break"
   ]
  },
  {
   "cell_type": "code",
   "execution_count": 5,
   "metadata": {},
   "outputs": [
    {
     "name": "stdout",
     "output_type": "stream",
     "text": [
      "0\n",
      "1\n",
      "2\n",
      "3\n",
      "4\n"
     ]
    }
   ],
   "source": [
    "for i in range(5):\n",
    "    print(i)"
   ]
  },
  {
   "cell_type": "code",
   "execution_count": 6,
   "metadata": {},
   "outputs": [],
   "source": [
    "def anagrafica(nome, eta):\n",
    "    print('Ciao', nome, 'hai', eta, 'anni')"
   ]
  },
  {
   "cell_type": "code",
   "execution_count": 7,
   "metadata": {},
   "outputs": [],
   "source": [
    "class Studente:\n",
    "    def __init__(self, nome, eta):\n",
    "        self.nome = nome\n",
    "        self.eta = eta\n",
    "    def saluta(self):\n",
    "        print('Ciao', self.nome, 'hai', self.eta, 'anni')\n",
    "\n",
    "def anagrafica(nome, eta):\n",
    "    s = Studente(nome, eta)\n",
    "    s.saluta()"
   ]
  },
  {
   "cell_type": "code",
   "execution_count": 8,
   "metadata": {},
   "outputs": [
    {
     "name": "stdout",
     "output_type": "stream",
     "text": [
      "Ciao Giovanni hai 25 anni\n"
     ]
    }
   ],
   "source": [
    "anagrafica('Giovanni', 25)"
   ]
  },
  {
   "cell_type": "code",
   "execution_count": null,
   "metadata": {},
   "outputs": [],
   "source": [
    "with open('file.txt', 'w') as f:\n",
    "    f.write('ciao')\n",
    "\n",
    "with open('file.txt', 'r') as f:\n",
    "    for riga in f:\n",
    "        print(riga)"
   ]
  },
  {
   "cell_type": "markdown",
   "metadata": {},
   "source": [
    "# Greek run\n",
    "In this exercise you will use numpy and matplotlib to simulate the greek run. The greek run works as follows:\n",
    "- There are 5 players(1,2,3,4,5) at positions 0,20,40,60,80\n",
    "- Players 1,2,3,4 are moving towards the right and player 5 is moving towards the left\n",
    "- If 2 players meet they both switch directions they are running\n",
    "- If a player's position is below 0 or above 100, they are safe\n",
    "- The last player to exit looses\n",
    "\n",
    "\n",
    "Which player looses?"
   ]
  },
  {
   "cell_type": "code",
   "execution_count": null,
   "metadata": {},
   "outputs": [],
   "source": [
    "import matplotlib.pyplot as plt\n",
    "%matplotlib inline\n",
    "import time\n",
    "import numpy as np\n",
    "from IPython import display\n"
   ]
  },
  {
   "cell_type": "code",
   "execution_count": null,
   "metadata": {},
   "outputs": [],
   "source": [
    "# Step 1\n",
    "# - Create the line with the correct positions as an np.array\n",
    "# - Assign a True if the player is still playing to each player as an np.array\n",
    "# - Assign a direction to each player as an np.array\n",
    "# - choose 5 colors for the players\n",
    "# - choose 5 markers for the players\n",
    "# - Using for x in zip(posizioni,direction,colors,markers): , plot: the initial positions, the the x limit from 0-100, set the y limit from -0.2 - 0.2\n",
    "\n",
    "posizioni= #ENTER CODE HERE\n",
    "play= #ENTER CODE HERE\n",
    "direction= #ENTER CODE HERE\n",
    "colors= #ENTER CODE HERE\n",
    "markers= #ENTER CODE HERE\n",
    "\n",
    "fig=plt.figure();\n",
    "ax = fig.add_axes([0, 0, 1, 1]);\n",
    "fig.suptitle('Greek Run',fontsize=14)\n",
    "\n",
    "for x in zip(posizioni,direction,colors,markers):\n",
    "    #ENTER CODE HERE\n",
    "display.clear_output(wait=True)\n",
    "display.display(plt.gcf())\n",
    "time.sleep(1.0)\n",
    "\n",
    "step = 0\n",
    "\n",
    "while len(play[play==True]) > 1:\n",
    "    step += 1\n",
    "# Step 2\n",
    "# - add a step in the correct direction to each player\n",
    "# - Check whether any players are out of the game\n",
    "# - Check if some players have met, if they did, change their direction\n",
    "    \n",
    "    #ENTER CODE HERE\n",
    "\n",
    "    ax.clear()\n",
    "# Step 3\n",
    "# - Plot the new positions using the code from step 1\n",
    "    for x in zip(posizioni,direction,colors,markers):\n",
    "        #ENTER CODE HERE\n",
    "       \n",
    "    display.clear_output(wait=True)\n",
    "    display.display(plt.gcf())\n",
    "    time.sleep(0.2)\n",
    "\n",
    "display.clear_output()\n",
    "display.display(plt.gcf())\n",
    "display.clear_output()\n"
   ]
  },
  {
   "cell_type": "code",
   "execution_count": null,
   "metadata": {},
   "outputs": [],
   "source": [
    "\n",
    "# Step 4\n",
    "# - Count the remaining steps for the last player\n",
    "# - calculate the total number of steps\n",
    "# - print the total amount of steps.\n",
    "\n",
    "#ENTER CODE HERE\n"
   ]
  }
 ],
 "metadata": {
  "kernelspec": {
   "display_name": "Python 3",
   "language": "python",
   "name": "python3"
  },
  "language_info": {
   "codemirror_mode": {
    "name": "ipython",
    "version": 3
   },
   "file_extension": ".py",
   "mimetype": "text/x-python",
   "name": "python",
   "nbconvert_exporter": "python",
   "pygments_lexer": "ipython3",
   "version": "3.12.6"
  }
 },
 "nbformat": 4,
 "nbformat_minor": 2
}
