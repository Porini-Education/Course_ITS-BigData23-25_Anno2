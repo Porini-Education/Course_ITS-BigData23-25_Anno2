{
 "cells": [
  {
   "cell_type": "markdown",
   "metadata": {},
   "source": [
    "# The Maze"
   ]
  },
  {
   "cell_type": "markdown",
   "metadata": {},
   "source": [
    "## Project Description"
   ]
  },
  {
   "cell_type": "markdown",
   "metadata": {},
   "source": [
    "\n",
    "In this project, you will write a computer code to generate a random maze using a recursive algorithm. You will also write the code to find a path between two points in a given maze.\n",
    "\n",
    "The integer `n` specifies the size of the `n`-by-`n` array of cells in the maze.\n",
    "\n",
    "The horizontal and the vertical *interior* walls of the maze are described by the arrays:\n",
    "\n",
    "- `H`, Bool array of size `n`-by-`n-1`\n",
    "- `V`, Bool array of size `n-1`-by-`n`\n",
    "\n",
    "These arrays specify if there is a wall or not between two neighboring cells.\n",
    "\n",
    "To see what we mean by the interior walls, consider the following example:\n",
    "\n",
    "```python\n",
    "n = 3\n",
    "H = [[True, True], [False, True], [True, False]]\n",
    "V = [[True, False, True], [True, True, False]]\n",
    "```\n",
    "\n",
    "The maze looks like this:\n",
    "\n",
    "```julia\n",
    "+---+---+---+\n",
    "|   |       |\n",
    "+---+---+   +\n",
    "|       |   |\n",
    "+---+   +---+\n",
    "|   |   |   |\n",
    "+---+---+---+\n",
    "```"
   ]
  },
  {
   "cell_type": "markdown",
   "metadata": {},
   "source": [
    "## Problem 1 - Plotting the Maze"
   ]
  },
  {
   "cell_type": "markdown",
   "metadata": {},
   "source": [
    "\n",
    "To see what we are doing, we will start by writing a function `plot_maze` that takes the arrays `H` and `V` as input, and displays the maze as shown above.\n",
    "\n",
    "- start with drawing the outer borders of the maze (this will also inform you about plotting the walls)\n",
    "- then draw the vertical walls\n",
    "- then draw the horizontal walls\n",
    "\n",
    "Below you will find the code that will plot the maze for you.\n",
    "\n",
    "You will need to write the function `plot_maze` that will be used by this code."
   ]
  },
  {
   "cell_type": "code",
   "execution_count": null,
   "metadata": {},
   "outputs": [],
   "source": [
    "import numpy as np\n",
    "import matplotlib.pyplot as plt\n",
    "from random import randint"
   ]
  },
  {
   "cell_type": "code",
   "execution_count": null,
   "metadata": {},
   "outputs": [],
   "source": [
    "def plot_maze(H,V):\n",
    "    pass"
   ]
  },
  {
   "cell_type": "code",
   "execution_count": null,
   "metadata": {},
   "outputs": [
    {
     "data": {
      "image/png": "[encoded data removed]",
      "text/plain": [
       "<Figure size 640x480 with 1 Axes>"
      ]
     },
     "metadata": {},
     "output_type": "display_data"
    }
   ],
   "source": [
    "# Code for plotting the maze - should look like the example in the assignment\n",
    "H = [[True, True], [False, True], [True, False]]\n",
    "V = [[True, False, True], [True, True, False]]\n",
    "plot_maze(H,V)\n",
    "plt.show()"
   ]
  },
  {
   "cell_type": "markdown",
   "metadata": {},
   "source": [
    "## Problem 2 - Generating a random maze"
   ]
  },
  {
   "cell_type": "markdown",
   "metadata": {},
   "source": [
    "\n",
    "We don't want to draw the maze by hand. We want to generate it randomly.\n",
    "Consider the following example code:"
   ]
  },
  {
   "cell_type": "code",
   "execution_count": null,
   "metadata": {},
   "outputs": [
    {
     "data": {
      "image/png": "[encoded data removed]",
      "text/plain": [
       "<Figure size 640x480 with 1 Axes>"
      ]
     },
     "metadata": {},
     "output_type": "display_data"
    }
   ],
   "source": [
    "H = [[0, 1, 0, 0, 0], [1, 0, 1, 0, 0], [0, 1, 1, 0, 0], [1, 1, 1, 0, 1], [0, 1, 0, 1, 1], [1, 0, 0, 0, 0]]\n",
    "V = [[1, 0, 1, 1, 1, 0], [0, 1, 0, 0, 1, 1], [0, 0, 0, 0, 1, 0], [0, 1, 0, 1, 0, 0], [0, 0, 1, 0, 1, 0]]\n",
    "plot_maze(H,V)\n",
    "plt.show()"
   ]
  },
  {
   "cell_type": "markdown",
   "metadata": {},
   "source": [
    "Drawing a maze by hand gets boring and complicated quickly. As `n` grows, so does the complexity of the maze. \n",
    "\n",
    "We can easily generate the arrays `H` and `V` starting with all walls using numpy. Then we can use a recursive algorithm to remove walls and create a maze.\n",
    "\n",
    "We need 2 functions:\n",
    "- `make_maze` that will generate the arrays `H` and `V` with all walls and then \"dig\" the maze. This function will take the size of the maze `n` as input.\n",
    "- `dig` that will be a recursive function that will remove walls to create the maze. This function will take the arrays `H` and `V`, the current cell `(x, y)` values, the `visited` cells and the `path` that has been created so far. \n",
    "\n",
    "In the `make_maze` function:\n",
    "- start by setting `H` and `V` with all walls to `True`\n",
    "- create the `visited` array and the `path` list\n",
    "- call the `dig` function with the initial cell `(0, 0)`\n",
    "- return the `H` and `V` arrays\n",
    "\n",
    "In the `dig` function:\n",
    "- keep track of the visited cells\n",
    "- keep track of the path\n",
    "- check that possible moves are within the maze and that the next cell has not been visited\n",
    "- if the next cell is valid, remove the wall between the current cell and the next cell\n",
    "  - if there are multiple possible moves, choose one randomly\n",
    "  - call the `dig` function recursively with the next cell coordinates\n",
    "- if the next cell is not valid, backtrack to the previous cell\n",
    "  - call the `dig` function recursively with the previous cell coordinates\n",
    "\n",
    "MAKE SURE TO TEST YOUR CODE! The third code block down will call your `make_maze` function and plot the maze for a value of `n` that you specify."
   ]
  },
  {
   "cell_type": "code",
   "execution_count": null,
   "metadata": {},
   "outputs": [],
   "source": [
    "def dig(x, y, visited, H, V, path):\n",
    "    # replace this with your code\n",
    "    pass"
   ]
  },
  {
   "cell_type": "code",
   "execution_count": null,
   "metadata": {},
   "outputs": [],
   "source": [
    "def make_maze(n):\n",
    "    # replace this with your code\n",
    "    H = []\n",
    "    V = []\n",
    "    \n",
    "    return H,V # you should return the two arrays H and V"
   ]
  },
  {
   "cell_type": "code",
   "execution_count": null,
   "metadata": {},
   "outputs": [
    {
     "data": {
      "image/png": "[encoded data removed]",
      "text/plain": [
       "<Figure size 640x480 with 1 Axes>"
      ]
     },
     "metadata": {},
     "output_type": "display_data"
    }
   ],
   "source": [
    "n = 30\n",
    "H,V = make_maze(n)\n",
    "plot_maze(H,V)"
   ]
  },
  {
   "cell_type": "markdown",
   "metadata": {},
   "source": [
    "## Problem 3 - Find path from the top left to the bottom right"
   ]
  },
  {
   "cell_type": "markdown",
   "metadata": {},
   "source": [
    "\n",
    "Next, write a function with the syntax\n",
    "\n",
    "```python\n",
    "path_x, path_y = find_path(H,V)\n",
    "```\n",
    "\n",
    "which finds a path in the maze `H,V` between the coordinates `0,n-1` and `n-1,0` using the following algorithm:\n",
    "\n",
    "Create a function `find_path` which does the following:\n",
    "1. Create an array `visited` to keep track of visited cells\n",
    "2. Initialize empty vectors `path_x, path_y` to store the final path\n",
    "3. Call `walk` for the starting coordinates and return `path_x, path_y`\n",
    "\n",
    "Create a recursive function `walk` which performs the following:\n",
    "1. If the position `x==n-1` and `y==0` is found (ie. the end of the maze), insert these values into `path_x, path_y` and return `true`\n",
    "2. Otherwise, consider each neighbor of `x,y`. If the cell is valid, the maze has no wall in that direction, and the cell has not been visited, apply `walk` to the neighbor cell.\n",
    "3. If any of the calls to `walk` returns `true`, insert `x,y` into `path_x, path_y` and return `true`\n"
   ]
  },
  {
   "cell_type": "code",
   "execution_count": null,
   "metadata": {},
   "outputs": [],
   "source": [
    "def walk(x,y,path_x,path_y,visited,H,V):\n",
    "    # replace this with your code\n",
    "    pass"
   ]
  },
  {
   "cell_type": "code",
   "execution_count": null,
   "metadata": {},
   "outputs": [],
   "source": [
    "def find_path(H,V):\n",
    "    # replace this with your code\n",
    "    path_x=[]\n",
    "    path_y=[]\n",
    "    \n",
    "    return path_x, path_y # you should return the two arrays path_x and path_y"
   ]
  },
  {
   "cell_type": "markdown",
   "metadata": {},
   "source": [
    "Now use the code below to test your function and plot the path."
   ]
  },
  {
   "cell_type": "code",
   "execution_count": null,
   "metadata": {},
   "outputs": [
    {
     "data": {
      "text/plain": [
       "[<matplotlib.lines.Line2D at 0x1c8d62be060>]"
      ]
     },
     "metadata": {},
     "output_type": "display_data"
    },
    {
     "data": {
      "image/png": "[encoded data removed]",
      "text/plain": [
       "<Figure size 640x480 with 1 Axes>"
      ]
     },
     "metadata": {},
     "output_type": "display_data"
    }
   ],
   "source": [
    "n = 10\n",
    "H,V = make_maze(n)\n",
    "plot_maze(H,V)\n",
    "path_x, path_y = find_path(H,V)\n",
    "plt.plot(np.add(path_x,[0.5 for i in range(np.size(path_x))]), np.add(path_y,[0.5 for i in range(np.size(path_y))]), color=\"r\", linewidth=4)"
   ]
  },
  {
   "cell_type": "code",
   "execution_count": null,
   "metadata": {},
   "outputs": [
    {
     "name": "stdout",
     "output_type": "stream",
     "text": [
      "3000\n",
      "21000\n"
     ]
    }
   ],
   "source": [
    "# use only if you need to change the recursion limit for large n:\n",
    "\n",
    "# import sys\n",
    "# print(sys.getrecursionlimit()) #make a note of the old recursion limit: XXXXX\n",
    "# sys.setrecursionlimit(21000)\n",
    "# print(sys.getrecursionlimit())"
   ]
  }
 ],
 "metadata": {
  "language_info": {
   "name": "python"
  }
 },
 "nbformat": 4,
 "nbformat_minor": 2
}
